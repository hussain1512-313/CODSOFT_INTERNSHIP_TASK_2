{
 "cells": [
  {
   "cell_type": "markdown",
   "id": "01a104ce",
   "metadata": {
    "papermill": {
     "duration": 0.007265,
     "end_time": "2024-11-07T19:59:05.816681",
     "exception": false,
     "start_time": "2024-11-07T19:59:05.809416",
     "status": "completed"
    },
    "tags": []
   },
   "source": [
    "IMPORT LIBRARIES"
   ]
  },
  {
   "cell_type": "code",
   "execution_count": 1,
   "id": "89264acc",
   "metadata": {
    "_cell_guid": "b1076dfc-b9ad-4769-8c92-a6c4dae69d19",
    "_uuid": "8f2839f25d086af736a60e9eeb907d3b93b6e0e5",
    "execution": {
     "iopub.execute_input": "2024-11-07T19:59:05.831792Z",
     "iopub.status.busy": "2024-11-07T19:59:05.831356Z",
     "iopub.status.idle": "2024-11-07T19:59:08.664955Z",
     "shell.execute_reply": "2024-11-07T19:59:08.663933Z"
    },
    "papermill": {
     "duration": 2.843933,
     "end_time": "2024-11-07T19:59:08.667500",
     "exception": false,
     "start_time": "2024-11-07T19:59:05.823567",
     "status": "completed"
    },
    "tags": []
   },
   "outputs": [],
   "source": [
    "import numpy as np\n",
    "\n",
    "import pandas as pd\n",
    "\n",
    "import matplotlib.pyplot as plt\n",
    "\n",
    "import seaborn as sns\n",
    "\n",
    "from sklearn.preprocessing import LabelEncoder\n",
    "\n",
    "from sklearn.model_selection import train_test_split\n",
    "\n",
    "from sklearn.ensemble import RandomForestRegressor\n",
    "\n",
    "from sklearn.tree import DecisionTreeClassifier\n",
    "\n",
    "import warnings\n",
    "warnings.filterwarnings('ignore')"
   ]
  },
  {
   "cell_type": "code",
   "execution_count": 2,
   "id": "1878f017",
   "metadata": {
    "execution": {
     "iopub.execute_input": "2024-11-07T19:59:08.682723Z",
     "iopub.status.busy": "2024-11-07T19:59:08.681803Z",
     "iopub.status.idle": "2024-11-07T19:59:08.698981Z",
     "shell.execute_reply": "2024-11-07T19:59:08.697816Z"
    },
    "papermill": {
     "duration": 0.027403,
     "end_time": "2024-11-07T19:59:08.701502",
     "exception": false,
     "start_time": "2024-11-07T19:59:08.674099",
     "status": "completed"
    },
    "tags": []
   },
   "outputs": [],
   "source": [
    "file_path = '/kaggle/input/iris-flower-dataset/IRIS.csv' \n",
    "\n",
    "data = pd.read_csv(file_path)"
   ]
  },
  {
   "cell_type": "markdown",
   "id": "caf1e6c7",
   "metadata": {
    "papermill": {
     "duration": 0.00608,
     "end_time": "2024-11-07T19:59:08.714129",
     "exception": false,
     "start_time": "2024-11-07T19:59:08.708049",
     "status": "completed"
    },
    "tags": []
   },
   "source": [
    "READ DATA"
   ]
  },
  {
   "cell_type": "code",
   "execution_count": 3,
   "id": "08bb8289",
   "metadata": {
    "execution": {
     "iopub.execute_input": "2024-11-07T19:59:08.730740Z",
     "iopub.status.busy": "2024-11-07T19:59:08.729739Z",
     "iopub.status.idle": "2024-11-07T19:59:08.737843Z",
     "shell.execute_reply": "2024-11-07T19:59:08.736856Z"
    },
    "papermill": {
     "duration": 0.0184,
     "end_time": "2024-11-07T19:59:08.740156",
     "exception": false,
     "start_time": "2024-11-07T19:59:08.721756",
     "status": "completed"
    },
    "tags": []
   },
   "outputs": [
    {
     "data": {
      "text/plain": [
       "(150, 5)"
      ]
     },
     "execution_count": 3,
     "metadata": {},
     "output_type": "execute_result"
    }
   ],
   "source": [
    "data.shape\n"
   ]
  },
  {
   "cell_type": "code",
   "execution_count": 4,
   "id": "e13da33f",
   "metadata": {
    "execution": {
     "iopub.execute_input": "2024-11-07T19:59:08.755433Z",
     "iopub.status.busy": "2024-11-07T19:59:08.755034Z",
     "iopub.status.idle": "2024-11-07T19:59:08.778388Z",
     "shell.execute_reply": "2024-11-07T19:59:08.777334Z"
    },
    "papermill": {
     "duration": 0.033503,
     "end_time": "2024-11-07T19:59:08.780800",
     "exception": false,
     "start_time": "2024-11-07T19:59:08.747297",
     "status": "completed"
    },
    "tags": []
   },
   "outputs": [
    {
     "data": {
      "text/html": [
       "<div>\n",
       "<style scoped>\n",
       "    .dataframe tbody tr th:only-of-type {\n",
       "        vertical-align: middle;\n",
       "    }\n",
       "\n",
       "    .dataframe tbody tr th {\n",
       "        vertical-align: top;\n",
       "    }\n",
       "\n",
       "    .dataframe thead th {\n",
       "        text-align: right;\n",
       "    }\n",
       "</style>\n",
       "<table border=\"1\" class=\"dataframe\">\n",
       "  <thead>\n",
       "    <tr style=\"text-align: right;\">\n",
       "      <th></th>\n",
       "      <th>sepal_length</th>\n",
       "      <th>sepal_width</th>\n",
       "      <th>petal_length</th>\n",
       "      <th>petal_width</th>\n",
       "      <th>species</th>\n",
       "    </tr>\n",
       "  </thead>\n",
       "  <tbody>\n",
       "    <tr>\n",
       "      <th>0</th>\n",
       "      <td>5.1</td>\n",
       "      <td>3.5</td>\n",
       "      <td>1.4</td>\n",
       "      <td>0.2</td>\n",
       "      <td>Iris-setosa</td>\n",
       "    </tr>\n",
       "    <tr>\n",
       "      <th>1</th>\n",
       "      <td>4.9</td>\n",
       "      <td>3.0</td>\n",
       "      <td>1.4</td>\n",
       "      <td>0.2</td>\n",
       "      <td>Iris-setosa</td>\n",
       "    </tr>\n",
       "    <tr>\n",
       "      <th>2</th>\n",
       "      <td>4.7</td>\n",
       "      <td>3.2</td>\n",
       "      <td>1.3</td>\n",
       "      <td>0.2</td>\n",
       "      <td>Iris-setosa</td>\n",
       "    </tr>\n",
       "    <tr>\n",
       "      <th>3</th>\n",
       "      <td>4.6</td>\n",
       "      <td>3.1</td>\n",
       "      <td>1.5</td>\n",
       "      <td>0.2</td>\n",
       "      <td>Iris-setosa</td>\n",
       "    </tr>\n",
       "    <tr>\n",
       "      <th>4</th>\n",
       "      <td>5.0</td>\n",
       "      <td>3.6</td>\n",
       "      <td>1.4</td>\n",
       "      <td>0.2</td>\n",
       "      <td>Iris-setosa</td>\n",
       "    </tr>\n",
       "    <tr>\n",
       "      <th>5</th>\n",
       "      <td>5.4</td>\n",
       "      <td>3.9</td>\n",
       "      <td>1.7</td>\n",
       "      <td>0.4</td>\n",
       "      <td>Iris-setosa</td>\n",
       "    </tr>\n",
       "    <tr>\n",
       "      <th>6</th>\n",
       "      <td>4.6</td>\n",
       "      <td>3.4</td>\n",
       "      <td>1.4</td>\n",
       "      <td>0.3</td>\n",
       "      <td>Iris-setosa</td>\n",
       "    </tr>\n",
       "    <tr>\n",
       "      <th>7</th>\n",
       "      <td>5.0</td>\n",
       "      <td>3.4</td>\n",
       "      <td>1.5</td>\n",
       "      <td>0.2</td>\n",
       "      <td>Iris-setosa</td>\n",
       "    </tr>\n",
       "    <tr>\n",
       "      <th>8</th>\n",
       "      <td>4.4</td>\n",
       "      <td>2.9</td>\n",
       "      <td>1.4</td>\n",
       "      <td>0.2</td>\n",
       "      <td>Iris-setosa</td>\n",
       "    </tr>\n",
       "    <tr>\n",
       "      <th>9</th>\n",
       "      <td>4.9</td>\n",
       "      <td>3.1</td>\n",
       "      <td>1.5</td>\n",
       "      <td>0.1</td>\n",
       "      <td>Iris-setosa</td>\n",
       "    </tr>\n",
       "  </tbody>\n",
       "</table>\n",
       "</div>"
      ],
      "text/plain": [
       "   sepal_length  sepal_width  petal_length  petal_width      species\n",
       "0           5.1          3.5           1.4          0.2  Iris-setosa\n",
       "1           4.9          3.0           1.4          0.2  Iris-setosa\n",
       "2           4.7          3.2           1.3          0.2  Iris-setosa\n",
       "3           4.6          3.1           1.5          0.2  Iris-setosa\n",
       "4           5.0          3.6           1.4          0.2  Iris-setosa\n",
       "5           5.4          3.9           1.7          0.4  Iris-setosa\n",
       "6           4.6          3.4           1.4          0.3  Iris-setosa\n",
       "7           5.0          3.4           1.5          0.2  Iris-setosa\n",
       "8           4.4          2.9           1.4          0.2  Iris-setosa\n",
       "9           4.9          3.1           1.5          0.1  Iris-setosa"
      ]
     },
     "execution_count": 4,
     "metadata": {},
     "output_type": "execute_result"
    }
   ],
   "source": [
    "data.head(10)\n"
   ]
  },
  {
   "cell_type": "code",
   "execution_count": 5,
   "id": "20c3b6e5",
   "metadata": {
    "execution": {
     "iopub.execute_input": "2024-11-07T19:59:08.796296Z",
     "iopub.status.busy": "2024-11-07T19:59:08.795869Z",
     "iopub.status.idle": "2024-11-07T19:59:08.825253Z",
     "shell.execute_reply": "2024-11-07T19:59:08.824163Z"
    },
    "papermill": {
     "duration": 0.039837,
     "end_time": "2024-11-07T19:59:08.827637",
     "exception": false,
     "start_time": "2024-11-07T19:59:08.787800",
     "status": "completed"
    },
    "tags": []
   },
   "outputs": [
    {
     "data": {
      "text/html": [
       "<div>\n",
       "<style scoped>\n",
       "    .dataframe tbody tr th:only-of-type {\n",
       "        vertical-align: middle;\n",
       "    }\n",
       "\n",
       "    .dataframe tbody tr th {\n",
       "        vertical-align: top;\n",
       "    }\n",
       "\n",
       "    .dataframe thead th {\n",
       "        text-align: right;\n",
       "    }\n",
       "</style>\n",
       "<table border=\"1\" class=\"dataframe\">\n",
       "  <thead>\n",
       "    <tr style=\"text-align: right;\">\n",
       "      <th></th>\n",
       "      <th>sepal_length</th>\n",
       "      <th>sepal_width</th>\n",
       "      <th>petal_length</th>\n",
       "      <th>petal_width</th>\n",
       "    </tr>\n",
       "  </thead>\n",
       "  <tbody>\n",
       "    <tr>\n",
       "      <th>count</th>\n",
       "      <td>150.000000</td>\n",
       "      <td>150.000000</td>\n",
       "      <td>150.000000</td>\n",
       "      <td>150.000000</td>\n",
       "    </tr>\n",
       "    <tr>\n",
       "      <th>mean</th>\n",
       "      <td>5.843333</td>\n",
       "      <td>3.054000</td>\n",
       "      <td>3.758667</td>\n",
       "      <td>1.198667</td>\n",
       "    </tr>\n",
       "    <tr>\n",
       "      <th>std</th>\n",
       "      <td>0.828066</td>\n",
       "      <td>0.433594</td>\n",
       "      <td>1.764420</td>\n",
       "      <td>0.763161</td>\n",
       "    </tr>\n",
       "    <tr>\n",
       "      <th>min</th>\n",
       "      <td>4.300000</td>\n",
       "      <td>2.000000</td>\n",
       "      <td>1.000000</td>\n",
       "      <td>0.100000</td>\n",
       "    </tr>\n",
       "    <tr>\n",
       "      <th>25%</th>\n",
       "      <td>5.100000</td>\n",
       "      <td>2.800000</td>\n",
       "      <td>1.600000</td>\n",
       "      <td>0.300000</td>\n",
       "    </tr>\n",
       "    <tr>\n",
       "      <th>50%</th>\n",
       "      <td>5.800000</td>\n",
       "      <td>3.000000</td>\n",
       "      <td>4.350000</td>\n",
       "      <td>1.300000</td>\n",
       "    </tr>\n",
       "    <tr>\n",
       "      <th>75%</th>\n",
       "      <td>6.400000</td>\n",
       "      <td>3.300000</td>\n",
       "      <td>5.100000</td>\n",
       "      <td>1.800000</td>\n",
       "    </tr>\n",
       "    <tr>\n",
       "      <th>max</th>\n",
       "      <td>7.900000</td>\n",
       "      <td>4.400000</td>\n",
       "      <td>6.900000</td>\n",
       "      <td>2.500000</td>\n",
       "    </tr>\n",
       "  </tbody>\n",
       "</table>\n",
       "</div>"
      ],
      "text/plain": [
       "       sepal_length  sepal_width  petal_length  petal_width\n",
       "count    150.000000   150.000000    150.000000   150.000000\n",
       "mean       5.843333     3.054000      3.758667     1.198667\n",
       "std        0.828066     0.433594      1.764420     0.763161\n",
       "min        4.300000     2.000000      1.000000     0.100000\n",
       "25%        5.100000     2.800000      1.600000     0.300000\n",
       "50%        5.800000     3.000000      4.350000     1.300000\n",
       "75%        6.400000     3.300000      5.100000     1.800000\n",
       "max        7.900000     4.400000      6.900000     2.500000"
      ]
     },
     "execution_count": 5,
     "metadata": {},
     "output_type": "execute_result"
    }
   ],
   "source": [
    "data.describe()"
   ]
  },
  {
   "cell_type": "code",
   "execution_count": 6,
   "id": "0dba900c",
   "metadata": {
    "execution": {
     "iopub.execute_input": "2024-11-07T19:59:08.843301Z",
     "iopub.status.busy": "2024-11-07T19:59:08.842892Z",
     "iopub.status.idle": "2024-11-07T19:59:08.865718Z",
     "shell.execute_reply": "2024-11-07T19:59:08.864527Z"
    },
    "papermill": {
     "duration": 0.033601,
     "end_time": "2024-11-07T19:59:08.868287",
     "exception": false,
     "start_time": "2024-11-07T19:59:08.834686",
     "status": "completed"
    },
    "tags": []
   },
   "outputs": [
    {
     "name": "stdout",
     "output_type": "stream",
     "text": [
      "<class 'pandas.core.frame.DataFrame'>\n",
      "RangeIndex: 150 entries, 0 to 149\n",
      "Data columns (total 5 columns):\n",
      " #   Column        Non-Null Count  Dtype  \n",
      "---  ------        --------------  -----  \n",
      " 0   sepal_length  150 non-null    float64\n",
      " 1   sepal_width   150 non-null    float64\n",
      " 2   petal_length  150 non-null    float64\n",
      " 3   petal_width   150 non-null    float64\n",
      " 4   species       150 non-null    object \n",
      "dtypes: float64(4), object(1)\n",
      "memory usage: 6.0+ KB\n"
     ]
    }
   ],
   "source": [
    "data.info()"
   ]
  },
  {
   "cell_type": "code",
   "execution_count": 7,
   "id": "8fa8d05f",
   "metadata": {
    "execution": {
     "iopub.execute_input": "2024-11-07T19:59:08.884935Z",
     "iopub.status.busy": "2024-11-07T19:59:08.884467Z",
     "iopub.status.idle": "2024-11-07T19:59:08.892813Z",
     "shell.execute_reply": "2024-11-07T19:59:08.891794Z"
    },
    "papermill": {
     "duration": 0.018791,
     "end_time": "2024-11-07T19:59:08.894879",
     "exception": false,
     "start_time": "2024-11-07T19:59:08.876088",
     "status": "completed"
    },
    "tags": []
   },
   "outputs": [
    {
     "data": {
      "text/plain": [
       "3"
      ]
     },
     "execution_count": 7,
     "metadata": {},
     "output_type": "execute_result"
    }
   ],
   "source": [
    "data.duplicated().sum()"
   ]
  },
  {
   "cell_type": "markdown",
   "id": "ab18c9ca",
   "metadata": {
    "papermill": {
     "duration": 0.007092,
     "end_time": "2024-11-07T19:59:08.909205",
     "exception": false,
     "start_time": "2024-11-07T19:59:08.902113",
     "status": "completed"
    },
    "tags": []
   },
   "source": [
    "REMOVE DUPLICATE VALUES"
   ]
  },
  {
   "cell_type": "code",
   "execution_count": 8,
   "id": "fb090a8e",
   "metadata": {
    "execution": {
     "iopub.execute_input": "2024-11-07T19:59:08.925137Z",
     "iopub.status.busy": "2024-11-07T19:59:08.924727Z",
     "iopub.status.idle": "2024-11-07T19:59:08.934196Z",
     "shell.execute_reply": "2024-11-07T19:59:08.933276Z"
    },
    "papermill": {
     "duration": 0.020063,
     "end_time": "2024-11-07T19:59:08.936395",
     "exception": false,
     "start_time": "2024-11-07T19:59:08.916332",
     "status": "completed"
    },
    "tags": []
   },
   "outputs": [],
   "source": [
    "data.drop_duplicates(inplace=True)"
   ]
  },
  {
   "cell_type": "code",
   "execution_count": 9,
   "id": "9cbf0345",
   "metadata": {
    "execution": {
     "iopub.execute_input": "2024-11-07T19:59:08.952492Z",
     "iopub.status.busy": "2024-11-07T19:59:08.952059Z",
     "iopub.status.idle": "2024-11-07T19:59:08.960196Z",
     "shell.execute_reply": "2024-11-07T19:59:08.959238Z"
    },
    "papermill": {
     "duration": 0.018493,
     "end_time": "2024-11-07T19:59:08.962215",
     "exception": false,
     "start_time": "2024-11-07T19:59:08.943722",
     "status": "completed"
    },
    "tags": []
   },
   "outputs": [
    {
     "data": {
      "text/plain": [
       "0"
      ]
     },
     "execution_count": 9,
     "metadata": {},
     "output_type": "execute_result"
    }
   ],
   "source": [
    "data.duplicated().sum()"
   ]
  },
  {
   "cell_type": "markdown",
   "id": "435ed06a",
   "metadata": {
    "papermill": {
     "duration": 0.007246,
     "end_time": "2024-11-07T19:59:08.976613",
     "exception": false,
     "start_time": "2024-11-07T19:59:08.969367",
     "status": "completed"
    },
    "tags": []
   },
   "source": [
    "CHECK NULL VALUE"
   ]
  },
  {
   "cell_type": "code",
   "execution_count": 10,
   "id": "a2fbb8cc",
   "metadata": {
    "execution": {
     "iopub.execute_input": "2024-11-07T19:59:08.992537Z",
     "iopub.status.busy": "2024-11-07T19:59:08.992120Z",
     "iopub.status.idle": "2024-11-07T19:59:09.000775Z",
     "shell.execute_reply": "2024-11-07T19:59:08.999645Z"
    },
    "papermill": {
     "duration": 0.01915,
     "end_time": "2024-11-07T19:59:09.002867",
     "exception": false,
     "start_time": "2024-11-07T19:59:08.983717",
     "status": "completed"
    },
    "tags": []
   },
   "outputs": [
    {
     "data": {
      "text/plain": [
       "sepal_length    0\n",
       "sepal_width     0\n",
       "petal_length    0\n",
       "petal_width     0\n",
       "species         0\n",
       "dtype: int64"
      ]
     },
     "execution_count": 10,
     "metadata": {},
     "output_type": "execute_result"
    }
   ],
   "source": [
    "data.isnull().sum()"
   ]
  },
  {
   "cell_type": "markdown",
   "id": "cbdc5374",
   "metadata": {
    "papermill": {
     "duration": 0.007123,
     "end_time": "2024-11-07T19:59:09.017409",
     "exception": false,
     "start_time": "2024-11-07T19:59:09.010286",
     "status": "completed"
    },
    "tags": []
   },
   "source": [
    "UNIQUE VALUES IN EACH COLUMN"
   ]
  },
  {
   "cell_type": "code",
   "execution_count": 11,
   "id": "ea252534",
   "metadata": {
    "execution": {
     "iopub.execute_input": "2024-11-07T19:59:09.033952Z",
     "iopub.status.busy": "2024-11-07T19:59:09.033538Z",
     "iopub.status.idle": "2024-11-07T19:59:09.040223Z",
     "shell.execute_reply": "2024-11-07T19:59:09.039206Z"
    },
    "papermill": {
     "duration": 0.017831,
     "end_time": "2024-11-07T19:59:09.042642",
     "exception": false,
     "start_time": "2024-11-07T19:59:09.024811",
     "status": "completed"
    },
    "tags": []
   },
   "outputs": [
    {
     "name": "stdout",
     "output_type": "stream",
     "text": [
      "sepal_length: 35\n",
      "sepal_width: 23\n",
      "petal_length: 43\n",
      "petal_width: 22\n",
      "species: 3\n"
     ]
    }
   ],
   "source": [
    "for column in data.columns:\n",
    "\n",
    "    print(f'{column}: {data[column].nunique()}')"
   ]
  },
  {
   "cell_type": "code",
   "execution_count": 12,
   "id": "877a8844",
   "metadata": {
    "execution": {
     "iopub.execute_input": "2024-11-07T19:59:09.059704Z",
     "iopub.status.busy": "2024-11-07T19:59:09.058841Z",
     "iopub.status.idle": "2024-11-07T19:59:09.067047Z",
     "shell.execute_reply": "2024-11-07T19:59:09.066038Z"
    },
    "papermill": {
     "duration": 0.019143,
     "end_time": "2024-11-07T19:59:09.069146",
     "exception": false,
     "start_time": "2024-11-07T19:59:09.050003",
     "status": "completed"
    },
    "tags": []
   },
   "outputs": [
    {
     "data": {
      "text/plain": [
       "species\n",
       "Iris-versicolor    50\n",
       "Iris-virginica     49\n",
       "Iris-setosa        48\n",
       "Name: count, dtype: int64"
      ]
     },
     "execution_count": 12,
     "metadata": {},
     "output_type": "execute_result"
    }
   ],
   "source": [
    "data['species'].value_counts()"
   ]
  },
  {
   "cell_type": "markdown",
   "id": "fc805ae3",
   "metadata": {
    "papermill": {
     "duration": 0.007431,
     "end_time": "2024-11-07T19:59:09.084330",
     "exception": false,
     "start_time": "2024-11-07T19:59:09.076899",
     "status": "completed"
    },
    "tags": []
   },
   "source": [
    "DISTRIBUTION OF SPECIES "
   ]
  },
  {
   "cell_type": "code",
   "execution_count": 13,
   "id": "667e1481",
   "metadata": {
    "execution": {
     "iopub.execute_input": "2024-11-07T19:59:09.101736Z",
     "iopub.status.busy": "2024-11-07T19:59:09.100875Z",
     "iopub.status.idle": "2024-11-07T19:59:09.257007Z",
     "shell.execute_reply": "2024-11-07T19:59:09.255894Z"
    },
    "papermill": {
     "duration": 0.16852,
     "end_time": "2024-11-07T19:59:09.260420",
     "exception": false,
     "start_time": "2024-11-07T19:59:09.091900",
     "status": "completed"
    },
    "tags": []
   },
   "outputs": [
    {
     "data": {
      "image/png": "[encoded data removed]",
      "text/plain": [
       "<Figure size 640x480 with 1 Axes>"
      ]
     },
     "metadata": {},
     "output_type": "display_data"
    }
   ],
   "source": [
    "color = sns.color_palette('RdBu')\n",
    "\n",
    "plt.pie(data['species'].value_counts(), labels=data['species'].unique(), autopct='%1.f%%',colors=color)\n",
    "\n",
    "plt.title('Distribution of species')\n",
    "\n",
    "plt.axis('equal')\n",
    "\n",
    "plt.show()"
   ]
  },
  {
   "cell_type": "code",
   "execution_count": 14,
   "id": "2e7027c2",
   "metadata": {
    "execution": {
     "iopub.execute_input": "2024-11-07T19:59:09.289899Z",
     "iopub.status.busy": "2024-11-07T19:59:09.288387Z",
     "iopub.status.idle": "2024-11-07T19:59:09.297939Z",
     "shell.execute_reply": "2024-11-07T19:59:09.296711Z"
    },
    "papermill": {
     "duration": 0.027374,
     "end_time": "2024-11-07T19:59:09.300869",
     "exception": false,
     "start_time": "2024-11-07T19:59:09.273495",
     "status": "completed"
    },
    "tags": []
   },
   "outputs": [
    {
     "name": "stdout",
     "output_type": "stream",
     "text": [
      "['Iris-setosa' 'Iris-versicolor' 'Iris-virginica']\n"
     ]
    }
   ],
   "source": [
    "le =LabelEncoder()\n",
    "\n",
    "data['species'] = le.fit_transform(data['species'])\n",
    "\n",
    "print(le.classes_) "
   ]
  },
  {
   "cell_type": "code",
   "execution_count": 15,
   "id": "cb5dc766",
   "metadata": {
    "execution": {
     "iopub.execute_input": "2024-11-07T19:59:09.328796Z",
     "iopub.status.busy": "2024-11-07T19:59:09.327799Z",
     "iopub.status.idle": "2024-11-07T19:59:09.345209Z",
     "shell.execute_reply": "2024-11-07T19:59:09.344099Z"
    },
    "papermill": {
     "duration": 0.03314,
     "end_time": "2024-11-07T19:59:09.347583",
     "exception": false,
     "start_time": "2024-11-07T19:59:09.314443",
     "status": "completed"
    },
    "tags": []
   },
   "outputs": [
    {
     "data": {
      "text/html": [
       "<div>\n",
       "<style scoped>\n",
       "    .dataframe tbody tr th:only-of-type {\n",
       "        vertical-align: middle;\n",
       "    }\n",
       "\n",
       "    .dataframe tbody tr th {\n",
       "        vertical-align: top;\n",
       "    }\n",
       "\n",
       "    .dataframe thead th {\n",
       "        text-align: right;\n",
       "    }\n",
       "</style>\n",
       "<table border=\"1\" class=\"dataframe\">\n",
       "  <thead>\n",
       "    <tr style=\"text-align: right;\">\n",
       "      <th></th>\n",
       "      <th>sepal_length</th>\n",
       "      <th>sepal_width</th>\n",
       "      <th>petal_length</th>\n",
       "      <th>petal_width</th>\n",
       "      <th>species</th>\n",
       "    </tr>\n",
       "  </thead>\n",
       "  <tbody>\n",
       "    <tr>\n",
       "      <th>74</th>\n",
       "      <td>6.4</td>\n",
       "      <td>2.9</td>\n",
       "      <td>4.3</td>\n",
       "      <td>1.3</td>\n",
       "      <td>1</td>\n",
       "    </tr>\n",
       "    <tr>\n",
       "      <th>42</th>\n",
       "      <td>4.4</td>\n",
       "      <td>3.2</td>\n",
       "      <td>1.3</td>\n",
       "      <td>0.2</td>\n",
       "      <td>0</td>\n",
       "    </tr>\n",
       "    <tr>\n",
       "      <th>20</th>\n",
       "      <td>5.4</td>\n",
       "      <td>3.4</td>\n",
       "      <td>1.7</td>\n",
       "      <td>0.2</td>\n",
       "      <td>0</td>\n",
       "    </tr>\n",
       "    <tr>\n",
       "      <th>69</th>\n",
       "      <td>5.6</td>\n",
       "      <td>2.5</td>\n",
       "      <td>3.9</td>\n",
       "      <td>1.1</td>\n",
       "      <td>1</td>\n",
       "    </tr>\n",
       "    <tr>\n",
       "      <th>33</th>\n",
       "      <td>5.5</td>\n",
       "      <td>4.2</td>\n",
       "      <td>1.4</td>\n",
       "      <td>0.2</td>\n",
       "      <td>0</td>\n",
       "    </tr>\n",
       "    <tr>\n",
       "      <th>75</th>\n",
       "      <td>6.6</td>\n",
       "      <td>3.0</td>\n",
       "      <td>4.4</td>\n",
       "      <td>1.4</td>\n",
       "      <td>1</td>\n",
       "    </tr>\n",
       "    <tr>\n",
       "      <th>136</th>\n",
       "      <td>6.3</td>\n",
       "      <td>3.4</td>\n",
       "      <td>5.6</td>\n",
       "      <td>2.4</td>\n",
       "      <td>2</td>\n",
       "    </tr>\n",
       "    <tr>\n",
       "      <th>123</th>\n",
       "      <td>6.3</td>\n",
       "      <td>2.7</td>\n",
       "      <td>4.9</td>\n",
       "      <td>1.8</td>\n",
       "      <td>2</td>\n",
       "    </tr>\n",
       "    <tr>\n",
       "      <th>85</th>\n",
       "      <td>6.0</td>\n",
       "      <td>3.4</td>\n",
       "      <td>4.5</td>\n",
       "      <td>1.6</td>\n",
       "      <td>1</td>\n",
       "    </tr>\n",
       "    <tr>\n",
       "      <th>121</th>\n",
       "      <td>5.6</td>\n",
       "      <td>2.8</td>\n",
       "      <td>4.9</td>\n",
       "      <td>2.0</td>\n",
       "      <td>2</td>\n",
       "    </tr>\n",
       "  </tbody>\n",
       "</table>\n",
       "</div>"
      ],
      "text/plain": [
       "     sepal_length  sepal_width  petal_length  petal_width  species\n",
       "74            6.4          2.9           4.3          1.3        1\n",
       "42            4.4          3.2           1.3          0.2        0\n",
       "20            5.4          3.4           1.7          0.2        0\n",
       "69            5.6          2.5           3.9          1.1        1\n",
       "33            5.5          4.2           1.4          0.2        0\n",
       "75            6.6          3.0           4.4          1.4        1\n",
       "136           6.3          3.4           5.6          2.4        2\n",
       "123           6.3          2.7           4.9          1.8        2\n",
       "85            6.0          3.4           4.5          1.6        1\n",
       "121           5.6          2.8           4.9          2.0        2"
      ]
     },
     "execution_count": 15,
     "metadata": {},
     "output_type": "execute_result"
    }
   ],
   "source": [
    "data.sample(10)"
   ]
  },
  {
   "cell_type": "markdown",
   "id": "dfe648bc",
   "metadata": {
    "papermill": {
     "duration": 0.008242,
     "end_time": "2024-11-07T19:59:09.364285",
     "exception": false,
     "start_time": "2024-11-07T19:59:09.356043",
     "status": "completed"
    },
    "tags": []
   },
   "source": [
    "CORRELATION MATRIX"
   ]
  },
  {
   "cell_type": "code",
   "execution_count": 16,
   "id": "dcaae855",
   "metadata": {
    "execution": {
     "iopub.execute_input": "2024-11-07T19:59:09.383426Z",
     "iopub.status.busy": "2024-11-07T19:59:09.382402Z",
     "iopub.status.idle": "2024-11-07T19:59:09.767306Z",
     "shell.execute_reply": "2024-11-07T19:59:09.766275Z"
    },
    "papermill": {
     "duration": 0.397335,
     "end_time": "2024-11-07T19:59:09.770019",
     "exception": false,
     "start_time": "2024-11-07T19:59:09.372684",
     "status": "completed"
    },
    "tags": []
   },
   "outputs": [
    {
     "data": {
      "image/png": "[encoded data removed]",
      "text/plain": [
       "<Figure size 1000x500 with 2 Axes>"
      ]
     },
     "metadata": {},
     "output_type": "display_data"
    }
   ],
   "source": [
    "plt.figure(figsize=(10,5))\n",
    "\n",
    "sns.heatmap(data.corr(), annot=True,linewidths=2)\n",
    "\n",
    "plt.title('Correlation Matrix')\n",
    "\n",
    "plt.show()"
   ]
  },
  {
   "cell_type": "markdown",
   "id": "e13fcf7c",
   "metadata": {
    "papermill": {
     "duration": 0.008584,
     "end_time": "2024-11-07T19:59:09.787955",
     "exception": false,
     "start_time": "2024-11-07T19:59:09.779371",
     "status": "completed"
    },
    "tags": []
   },
   "source": [
    "SPLIT THE DATA"
   ]
  },
  {
   "cell_type": "code",
   "execution_count": 17,
   "id": "492ca0df",
   "metadata": {
    "execution": {
     "iopub.execute_input": "2024-11-07T19:59:09.807745Z",
     "iopub.status.busy": "2024-11-07T19:59:09.807296Z",
     "iopub.status.idle": "2024-11-07T19:59:09.813552Z",
     "shell.execute_reply": "2024-11-07T19:59:09.812523Z"
    },
    "papermill": {
     "duration": 0.01899,
     "end_time": "2024-11-07T19:59:09.815907",
     "exception": false,
     "start_time": "2024-11-07T19:59:09.796917",
     "status": "completed"
    },
    "tags": []
   },
   "outputs": [],
   "source": [
    "data_x = data.drop('species', axis=1)\n",
    "\n",
    "data_y = data['species']"
   ]
  },
  {
   "cell_type": "code",
   "execution_count": 18,
   "id": "2bca5b90",
   "metadata": {
    "execution": {
     "iopub.execute_input": "2024-11-07T19:59:09.836043Z",
     "iopub.status.busy": "2024-11-07T19:59:09.834984Z",
     "iopub.status.idle": "2024-11-07T19:59:09.842296Z",
     "shell.execute_reply": "2024-11-07T19:59:09.841107Z"
    },
    "papermill": {
     "duration": 0.019715,
     "end_time": "2024-11-07T19:59:09.844663",
     "exception": false,
     "start_time": "2024-11-07T19:59:09.824948",
     "status": "completed"
    },
    "tags": []
   },
   "outputs": [],
   "source": [
    "xtrain, xtest, ytrain, ytest = train_test_split(data_x, data_y, test_size=0.1, random_state=42)"
   ]
  },
  {
   "cell_type": "code",
   "execution_count": 19,
   "id": "b5423dbd",
   "metadata": {
    "execution": {
     "iopub.execute_input": "2024-11-07T19:59:09.864585Z",
     "iopub.status.busy": "2024-11-07T19:59:09.864177Z",
     "iopub.status.idle": "2024-11-07T19:59:09.870265Z",
     "shell.execute_reply": "2024-11-07T19:59:09.869217Z"
    },
    "papermill": {
     "duration": 0.018664,
     "end_time": "2024-11-07T19:59:09.872528",
     "exception": false,
     "start_time": "2024-11-07T19:59:09.853864",
     "status": "completed"
    },
    "tags": []
   },
   "outputs": [],
   "source": [
    "def Regression_model(model):\n",
    "\n",
    "    model.fit(xtrain, ytrain)\n",
    "\n",
    "    train_daTa_accuracy = model.score(xtrain, ytrain) #train daTa\n",
    "\n",
    "    test_daTa_accuracy = model.score(xtest, ytest) #test daTa\n",
    "\n",
    "    print('model name : ',model)\n",
    "\n",
    "    print('accuracy of train data = ',train_daTa_accuracy)\n",
    "\n",
    "    print('accuracy of test data = ',test_daTa_accuracy)"
   ]
  },
  {
   "cell_type": "code",
   "execution_count": 20,
   "id": "1e44b5b0",
   "metadata": {
    "execution": {
     "iopub.execute_input": "2024-11-07T19:59:09.892002Z",
     "iopub.status.busy": "2024-11-07T19:59:09.891623Z",
     "iopub.status.idle": "2024-11-07T19:59:10.053603Z",
     "shell.execute_reply": "2024-11-07T19:59:10.052480Z"
    },
    "papermill": {
     "duration": 0.174473,
     "end_time": "2024-11-07T19:59:10.055971",
     "exception": false,
     "start_time": "2024-11-07T19:59:09.881498",
     "status": "completed"
    },
    "tags": []
   },
   "outputs": [
    {
     "name": "stdout",
     "output_type": "stream",
     "text": [
      "model name :  RandomForestRegressor()\n",
      "accuracy of train data =  0.9954352346947661\n",
      "accuracy of test data =  0.84138\n"
     ]
    }
   ],
   "source": [
    "model = RandomForestRegressor()\n",
    "Regression_model(model)"
   ]
  },
  {
   "cell_type": "code",
   "execution_count": 21,
   "id": "513540fd",
   "metadata": {
    "execution": {
     "iopub.execute_input": "2024-11-07T19:59:10.076090Z",
     "iopub.status.busy": "2024-11-07T19:59:10.075251Z",
     "iopub.status.idle": "2024-11-07T19:59:10.087241Z",
     "shell.execute_reply": "2024-11-07T19:59:10.086056Z"
    },
    "papermill": {
     "duration": 0.024513,
     "end_time": "2024-11-07T19:59:10.089587",
     "exception": false,
     "start_time": "2024-11-07T19:59:10.065074",
     "status": "completed"
    },
    "tags": []
   },
   "outputs": [
    {
     "name": "stdout",
     "output_type": "stream",
     "text": [
      "model name :  DecisionTreeClassifier()\n",
      "accuracy of train data =  1.0\n",
      "accuracy of test data =  0.8\n"
     ]
    }
   ],
   "source": [
    "model = DecisionTreeClassifier()\n",
    "Regression_model(model)"
   ]
  },
  {
   "cell_type": "markdown",
   "id": "64447a98",
   "metadata": {
    "papermill": {
     "duration": 0.008897,
     "end_time": "2024-11-07T19:59:10.108340",
     "exception": false,
     "start_time": "2024-11-07T19:59:10.099443",
     "status": "completed"
    },
    "tags": []
   },
   "source": [
    "CONCLUSION"
   ]
  }
 ],
 "metadata": {
  "kaggle": {
   "accelerator": "none",
   "dataSources": [
    {
     "datasetId": 17860,
     "sourceId": 23404,
     "sourceType": "datasetVersion"
    }
   ],
   "dockerImageVersionId": 30786,
   "isGpuEnabled": false,
   "isInternetEnabled": false,
   "language": "python",
   "sourceType": "notebook"
  },
  "kernelspec": {
   "display_name": "Python 3",
   "language": "python",
   "name": "python3"
  },
  "language_info": {
   "codemirror_mode": {
    "name": "ipython",
    "version": 3
   },
   "file_extension": ".py",
   "mimetype": "text/x-python",
   "name": "python",
   "nbconvert_exporter": "python",
   "pygments_lexer": "ipython3",
   "version": "3.10.14"
  },
  "papermill": {
   "default_parameters": {},
   "duration": 7.634681,
   "end_time": "2024-11-07T19:59:10.738183",
   "environment_variables": {},
   "exception": null,
   "input_path": "__notebook__.ipynb",
   "output_path": "__notebook__.ipynb",
   "parameters": {},
   "start_time": "2024-11-07T19:59:03.103502",
   "version": "2.6.0"
  }
 },
 "nbformat": 4,
 "nbformat_minor": 5
}
